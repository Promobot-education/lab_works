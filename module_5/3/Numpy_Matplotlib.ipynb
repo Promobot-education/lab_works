{
 "cells": [
  {
   "cell_type": "markdown",
   "metadata": {
    "colab_type": "text",
    "id": "vHahKStWpADA"
   },
   "source": [
    "# Ознакомительное занятие с Python. NumPy и другие библотеки."
   ]
  },
  {
   "cell_type": "markdown",
   "metadata": {
    "colab_type": "text",
    "id": "Te4TJzWI7UlJ"
   },
   "source": [
    "### Документация:\n",
    "* Python: https://docs.python.org/3/\n",
    "* NumPy: https://docs.scipy.org/doc/numpy/\n"
   ]
  },
  {
   "cell_type": "code",
   "execution_count": null,
   "metadata": {
    "colab": {
     "base_uri": "https://localhost:8080/",
     "height": 35
    },
    "colab_type": "code",
    "executionInfo": {
     "elapsed": 1371,
     "status": "ok",
     "timestamp": 1587376505921,
     "user": {
      "displayName": "Vitalii Kudinov",
      "photoUrl": "",
      "userId": "05159072765222728923"
     },
     "user_tz": -420
    },
    "id": "PWx9Jx9BZO67",
    "outputId": "2b6b80a1-40cf-4ddb-f148-82fccbb88e54"
   },
   "outputs": [],
   "source": [
    "print(\"Hello, world!\")"
   ]
  },
  {
   "cell_type": "code",
   "execution_count": null,
   "metadata": {
    "colab": {},
    "colab_type": "code",
    "id": "5-JuC1YgZTrr"
   },
   "outputs": [],
   "source": [
    "x = 2\n",
    "if x == 1:\n",
    "    # 4 пробела или Tab\n",
    "    print(\"x равен 1.\")\n",
    "# test"
   ]
  },
  {
   "cell_type": "markdown",
   "metadata": {
    "colab_type": "text",
    "id": "k-DPpx9mpQvJ"
   },
   "source": [
    "## Различные типы данных"
   ]
  },
  {
   "cell_type": "code",
   "execution_count": null,
   "metadata": {
    "colab": {
     "base_uri": "https://localhost:8080/",
     "height": 35
    },
    "colab_type": "code",
    "executionInfo": {
     "elapsed": 621,
     "status": "ok",
     "timestamp": 1587377053504,
     "user": {
      "displayName": "Vitalii Kudinov",
      "photoUrl": "",
      "userId": "05159072765222728923"
     },
     "user_tz": -420
    },
    "id": "j19iV25iZo5J",
    "outputId": "afe4186a-0ca3-496e-a129-60b7d66c37dd"
   },
   "outputs": [],
   "source": [
    "myint = 10\n",
    "print(myint)"
   ]
  },
  {
   "cell_type": "code",
   "execution_count": null,
   "metadata": {
    "colab": {
     "base_uri": "https://localhost:8080/",
     "height": 35
    },
    "colab_type": "code",
    "executionInfo": {
     "elapsed": 722,
     "status": "ok",
     "timestamp": 1587377057621,
     "user": {
      "displayName": "Vitalii Kudinov",
      "photoUrl": "",
      "userId": "05159072765222728923"
     },
     "user_tz": -420
    },
    "id": "GRdNSvWaZqKY",
    "outputId": "a2e8a1e8-4ca3-46fb-9a49-88792c284378"
   },
   "outputs": [],
   "source": [
    "myfloat = 15.0\n",
    "print(myfloat)"
   ]
  },
  {
   "cell_type": "code",
   "execution_count": null,
   "metadata": {
    "colab": {
     "base_uri": "https://localhost:8080/",
     "height": 35
    },
    "colab_type": "code",
    "executionInfo": {
     "elapsed": 579,
     "status": "ok",
     "timestamp": 1587377090363,
     "user": {
      "displayName": "Vitalii Kudinov",
      "photoUrl": "",
      "userId": "05159072765222728923"
     },
     "user_tz": -420
    },
    "id": "M3UWOY2KZzWY",
    "outputId": "59d88c85-13b0-4dbd-e359-d9383342c415"
   },
   "outputs": [],
   "source": [
    "mystring = \"hello\"\n",
    "print(mystring)"
   ]
  },
  {
   "cell_type": "code",
   "execution_count": null,
   "metadata": {
    "colab": {
     "base_uri": "https://localhost:8080/",
     "height": 90
    },
    "colab_type": "code",
    "executionInfo": {
     "elapsed": 578,
     "status": "ok",
     "timestamp": 1587377226383,
     "user": {
      "displayName": "Vitalii Kudinov",
      "photoUrl": "",
      "userId": "05159072765222728923"
     },
     "user_tz": -420
    },
    "id": "vpvCAZREaHI1",
    "outputId": "a18301db-c377-4812-a180-1ad4735f65ce"
   },
   "outputs": [],
   "source": [
    "mylist = []\n",
    "mylist.append(1)\n",
    "mylist.append(2)\n",
    "mylist.append(3)\n",
    "print(mylist[0])\n",
    "print(mylist[1])\n",
    "print(mylist[2])\n",
    "print(mylist[-2])"
   ]
  },
  {
   "cell_type": "code",
   "execution_count": null,
   "metadata": {
    "colab": {
     "base_uri": "https://localhost:8080/",
     "height": 35
    },
    "colab_type": "code",
    "executionInfo": {
     "elapsed": 541,
     "status": "ok",
     "timestamp": 1587377270084,
     "user": {
      "displayName": "Vitalii Kudinov",
      "photoUrl": "",
      "userId": "05159072765222728923"
     },
     "user_tz": -420
    },
    "id": "-Mwe5yecpkxA",
    "outputId": "cd5483e1-5643-4b27-dc2f-0d2ea6221073"
   },
   "outputs": [],
   "source": [
    "thistuple = (\"apple\", \"banana\", \"cherry\")\n",
    "print(thistuple)"
   ]
  },
  {
   "cell_type": "code",
   "execution_count": null,
   "metadata": {
    "colab": {
     "base_uri": "https://localhost:8080/",
     "height": 191
    },
    "colab_type": "code",
    "executionInfo": {
     "elapsed": 570,
     "status": "error",
     "timestamp": 1587377285345,
     "user": {
      "displayName": "Vitalii Kudinov",
      "photoUrl": "",
      "userId": "05159072765222728923"
     },
     "user_tz": -420
    },
    "id": "mkCXvnBxp_Ao",
    "outputId": "00ce4d1c-9b4b-4b30-e89a-415e89231f14"
   },
   "outputs": [],
   "source": [
    "thistuple[3] = \"orange\" # Это вызовет ошибку\n",
    "print(thistuple)"
   ]
  },
  {
   "cell_type": "code",
   "execution_count": null,
   "metadata": {
    "colab": {
     "base_uri": "https://localhost:8080/",
     "height": 35
    },
    "colab_type": "code",
    "executionInfo": {
     "elapsed": 592,
     "status": "ok",
     "timestamp": 1587377338929,
     "user": {
      "displayName": "Vitalii Kudinov",
      "photoUrl": "",
      "userId": "05159072765222728923"
     },
     "user_tz": -420
    },
    "id": "fpJdMglLpprf",
    "outputId": "5b8b614b-c349-47ee-e5d3-a3d9b7ac6d93"
   },
   "outputs": [],
   "source": [
    "thistuple = (1,2,3)\n",
    "thistuple"
   ]
  },
  {
   "cell_type": "code",
   "execution_count": null,
   "metadata": {
    "colab": {
     "base_uri": "https://localhost:8080/",
     "height": 227
    },
    "colab_type": "code",
    "executionInfo": {
     "elapsed": 577,
     "status": "error",
     "timestamp": 1587377347891,
     "user": {
      "displayName": "Vitalii Kudinov",
      "photoUrl": "",
      "userId": "05159072765222728923"
     },
     "user_tz": -420
    },
    "id": "9-l5sqoLqGjB",
    "outputId": "5ad6cea3-cfd2-48df-ecde-d9f5c72e6ed8"
   },
   "outputs": [],
   "source": [
    "print(thistuple[1])\n",
    "thistuple[1] = 4\n",
    "print(thistuple[1])"
   ]
  },
  {
   "cell_type": "markdown",
   "metadata": {
    "colab_type": "text",
    "id": "EiC0ju0OC3Lv"
   },
   "source": [
    "## Задание №1\n",
    "\n",
    "В этом упражнении Вам нужно будет добавить номера и строки в предложенные списки. Добавьте 4, 2, 3 в список *numbers* и 'Goodbye,', '       ', 'world! в список *strings*.\n",
    "\n",
    "Также, присвойте объекту *two_wheels* транспортные средства, содержащие в себе по два колеса (в 95% случаев)."
   ]
  },
  {
   "cell_type": "code",
   "execution_count": null,
   "metadata": {
    "colab": {
     "base_uri": "https://localhost:8080/",
     "height": 72
    },
    "colab_type": "code",
    "executionInfo": {
     "elapsed": 575,
     "status": "ok",
     "timestamp": 1587377925881,
     "user": {
      "displayName": "Vitalii Kudinov",
      "photoUrl": "",
      "userId": "05159072765222728923"
     },
     "user_tz": -420
    },
    "id": "hzHovLDSanua",
    "outputId": "57280e99-098b-421f-86ba-c85e32267bd4"
   },
   "outputs": [],
   "source": [
    "numbers = []\n",
    "strings = []\n",
    "vehicles = [\"Автомобиль\", \"Мотоцикл\", \"Велосипед\"]\n",
    "\n",
    "# Напишите свой код здесь\n",
    "\n",
    "\n",
    "# Ваш результат будет показан здесь\n",
    "\n",
    "print(numbers)\n",
    "print(strings)\n",
    "print(\"Транспорт с двумя колесами: %s\" % two_wheels)"
   ]
  },
  {
   "cell_type": "markdown",
   "metadata": {
    "colab_type": "text",
    "id": "UxOg72oNPh6H"
   },
   "source": [
    "Основным объектом NumPy является однородный многомерный массив (в NumPy называется numpy.ndarray). Это многомерный массив элементов (обычно чисел), одного типа.\n",
    "\n",
    "Наиболее важные атрибуты объектов ndarray:\n",
    "*   ndarray.ndim - число измерений (чаще их называют \"оси\") массива.\n",
    "*   ndarray.shape - размеры массива, его форма. Это кортеж натуральных чисел, показывающий длину массива по каждой оси. Для матрицы из n строк и m столбов, shape будет (n,m). Число элементов кортежа shape равно ndim.\n",
    "*   ndarray.dtype - объект, описывающий тип элементов массива. Можно определить dtype, используя стандартные типы данных Python. NumPy здесь предоставляет целый букет возможностей, как встроенных, например: bool_, character, int8, int16, int32, int64, float8, float16, float32, float64, complex64, object_, так и возможность определить собственные типы данных, в том числе и составные."
   ]
  },
  {
   "cell_type": "code",
   "execution_count": null,
   "metadata": {
    "colab": {},
    "colab_type": "code",
    "id": "vTotKDauPkfO"
   },
   "outputs": [],
   "source": [
    "import numpy as np"
   ]
  },
  {
   "cell_type": "code",
   "execution_count": null,
   "metadata": {
    "colab": {},
    "colab_type": "code",
    "id": "JAeVq6jzRQ6F"
   },
   "outputs": [],
   "source": [
    "a = np.array([1, 2, 3])"
   ]
  },
  {
   "cell_type": "code",
   "execution_count": null,
   "metadata": {
    "colab": {
     "base_uri": "https://localhost:8080/",
     "height": 35
    },
    "colab_type": "code",
    "executionInfo": {
     "elapsed": 750,
     "status": "ok",
     "timestamp": 1587378241776,
     "user": {
      "displayName": "Vitalii Kudinov",
      "photoUrl": "",
      "userId": "05159072765222728923"
     },
     "user_tz": -420
    },
    "id": "mdUh8fX-RQ-7",
    "outputId": "cd6dc61f-05ff-4dc8-c3bc-03a2de114a31"
   },
   "outputs": [],
   "source": [
    "a"
   ]
  },
  {
   "cell_type": "code",
   "execution_count": null,
   "metadata": {
    "colab": {
     "base_uri": "https://localhost:8080/",
     "height": 35
    },
    "colab_type": "code",
    "executionInfo": {
     "elapsed": 571,
     "status": "ok",
     "timestamp": 1587378253343,
     "user": {
      "displayName": "Vitalii Kudinov",
      "photoUrl": "",
      "userId": "05159072765222728923"
     },
     "user_tz": -420
    },
    "id": "0cuJ0RDYRRCL",
    "outputId": "0ee6619e-987d-4520-f3a0-4410116b569c"
   },
   "outputs": [],
   "source": [
    "type(a)"
   ]
  },
  {
   "cell_type": "code",
   "execution_count": null,
   "metadata": {
    "colab": {
     "base_uri": "https://localhost:8080/",
     "height": 72
    },
    "colab_type": "code",
    "executionInfo": {
     "elapsed": 1000,
     "status": "ok",
     "timestamp": 1587378276705,
     "user": {
      "displayName": "Vitalii Kudinov",
      "photoUrl": "",
      "userId": "05159072765222728923"
     },
     "user_tz": -420
    },
    "id": "dpji9BMVRRFE",
    "outputId": "a571247c-2f51-4d86-be53-b2b4b990dc9c"
   },
   "outputs": [],
   "source": [
    "np.zeros((3, 3))"
   ]
  },
  {
   "cell_type": "code",
   "execution_count": null,
   "metadata": {
    "colab": {
     "base_uri": "https://localhost:8080/",
     "height": 54
    },
    "colab_type": "code",
    "executionInfo": {
     "elapsed": 604,
     "status": "ok",
     "timestamp": 1587378307221,
     "user": {
      "displayName": "Vitalii Kudinov",
      "photoUrl": "",
      "userId": "05159072765222728923"
     },
     "user_tz": -420
    },
    "id": "ejFRDc97R2Xd",
    "outputId": "9f224c83-1cf7-47dc-cdd4-fbddf55a9f5a"
   },
   "outputs": [],
   "source": [
    "np.ones((2, 3))"
   ]
  },
  {
   "cell_type": "code",
   "execution_count": null,
   "metadata": {
    "colab": {
     "base_uri": "https://localhost:8080/",
     "height": 109
    },
    "colab_type": "code",
    "executionInfo": {
     "elapsed": 576,
     "status": "ok",
     "timestamp": 1587378315547,
     "user": {
      "displayName": "Vitalii Kudinov",
      "photoUrl": "",
      "userId": "05159072765222728923"
     },
     "user_tz": -420
    },
    "id": "b5VhHD4FT6pT",
    "outputId": "f06f0353-d2f9-4e2b-986b-df1b52af9cae"
   },
   "outputs": [],
   "source": [
    "my_input = np.ones((2, 3))\n",
    "print(my_input)\n",
    "print(*my_input)\n",
    "display(*my_input)"
   ]
  },
  {
   "cell_type": "code",
   "execution_count": null,
   "metadata": {
    "colab": {
     "base_uri": "https://localhost:8080/",
     "height": 35
    },
    "colab_type": "code",
    "executionInfo": {
     "elapsed": 709,
     "status": "ok",
     "timestamp": 1587378523139,
     "user": {
      "displayName": "Vitalii Kudinov",
      "photoUrl": "",
      "userId": "05159072765222728923"
     },
     "user_tz": -420
    },
    "id": "zbe3gx1zUbgr",
    "outputId": "f6ea0844-91dc-4e44-8464-f3f0be058a62"
   },
   "outputs": [],
   "source": [
    "def func(arg):\n",
    "  print(arg)\n",
    "func(1)"
   ]
  },
  {
   "cell_type": "markdown",
   "metadata": {
    "colab_type": "text",
    "id": "L8KuwlslrovJ"
   },
   "source": [
    "## Различные типы генерации рандомных (случайных) чисел"
   ]
  },
  {
   "cell_type": "code",
   "execution_count": null,
   "metadata": {
    "colab": {
     "base_uri": "https://localhost:8080/",
     "height": 35
    },
    "colab_type": "code",
    "executionInfo": {
     "elapsed": 487,
     "status": "ok",
     "timestamp": 1587378675075,
     "user": {
      "displayName": "Vitalii Kudinov",
      "photoUrl": "",
      "userId": "05159072765222728923"
     },
     "user_tz": -420
    },
    "id": "5_BMNXecTwoH",
    "outputId": "65cec0d3-9989-4c37-dc86-58cf87eddc06"
   },
   "outputs": [],
   "source": [
    "np.random.uniform(0, 1)"
   ]
  },
  {
   "cell_type": "code",
   "execution_count": null,
   "metadata": {
    "colab": {
     "base_uri": "https://localhost:8080/",
     "height": 109
    },
    "colab_type": "code",
    "executionInfo": {
     "elapsed": 539,
     "status": "ok",
     "timestamp": 1587378677932,
     "user": {
      "displayName": "Vitalii Kudinov",
      "photoUrl": "",
      "userId": "05159072765222728923"
     },
     "user_tz": -420
    },
    "id": "KuS54QuVWND_",
    "outputId": "21d1247e-d9f5-4690-9115-80f7f82ed2cc"
   },
   "outputs": [],
   "source": [
    "np.random.randn(5, 5)"
   ]
  },
  {
   "cell_type": "code",
   "execution_count": null,
   "metadata": {
    "colab": {
     "base_uri": "https://localhost:8080/",
     "height": 72
    },
    "colab_type": "code",
    "executionInfo": {
     "elapsed": 548,
     "status": "ok",
     "timestamp": 1587378757545,
     "user": {
      "displayName": "Vitalii Kudinov",
      "photoUrl": "",
      "userId": "05159072765222728923"
     },
     "user_tz": -420
    },
    "id": "E1I5cxiBWNRt",
    "outputId": "3181a27a-7925-4206-ebdb-1407d6b738d6"
   },
   "outputs": [],
   "source": [
    "np.random.rand(3, 3)"
   ]
  },
  {
   "cell_type": "code",
   "execution_count": null,
   "metadata": {
    "colab": {
     "base_uri": "https://localhost:8080/",
     "height": 219
    },
    "colab_type": "code",
    "executionInfo": {
     "elapsed": 636,
     "status": "ok",
     "timestamp": 1587378784560,
     "user": {
      "displayName": "Vitalii Kudinov",
      "photoUrl": "",
      "userId": "05159072765222728923"
     },
     "user_tz": -420
    },
    "id": "0NxOuBXCD45z",
    "outputId": "90b7c909-437f-4180-c892-0e4757ba5248"
   },
   "outputs": [],
   "source": [
    "np.random.randint(1, 10, (3, 3, 3))"
   ]
  },
  {
   "cell_type": "code",
   "execution_count": null,
   "metadata": {
    "colab": {},
    "colab_type": "code",
    "id": "V1lag-cgWzZH"
   },
   "outputs": [],
   "source": [
    "import random # Можно использовать специализированную библиотеку для этих целей\n",
    "random.seed(10)\n",
    "np.random.seed(10) # Или встроенную в Numpy"
   ]
  },
  {
   "cell_type": "code",
   "execution_count": null,
   "metadata": {
    "colab": {
     "base_uri": "https://localhost:8080/",
     "height": 265
    },
    "colab_type": "code",
    "executionInfo": {
     "elapsed": 611,
     "status": "ok",
     "timestamp": 1587379145062,
     "user": {
      "displayName": "Vitalii Kudinov",
      "photoUrl": "",
      "userId": "05159072765222728923"
     },
     "user_tz": -420
    },
    "id": "PTdr8mQbXWBM",
    "outputId": "4183f970-7e35-42ae-df0f-e41f65d2a008"
   },
   "outputs": [],
   "source": [
    "import matplotlib.pyplot as plt\n",
    "x = np.linspace(0, 5, 20)\n",
    "np.random.seed(10)\n",
    "dots = np.random.randn(20)\n",
    "plt.plot(x, dots);"
   ]
  },
  {
   "cell_type": "code",
   "execution_count": null,
   "metadata": {
    "colab": {
     "base_uri": "https://localhost:8080/",
     "height": 265
    },
    "colab_type": "code",
    "executionInfo": {
     "elapsed": 597,
     "status": "ok",
     "timestamp": 1587379257971,
     "user": {
      "displayName": "Vitalii Kudinov",
      "photoUrl": "",
      "userId": "05159072765222728923"
     },
     "user_tz": -420
    },
    "id": "2aLNNxQOu1dy",
    "outputId": "0b5e121b-c055-4cb0-d6f2-aea958238fca"
   },
   "outputs": [],
   "source": [
    "import matplotlib.pyplot as plt\n",
    "x = np.linspace(0, 5, 20)\n",
    "random.seed(20)\n",
    "dots = []\n",
    "for i in range(0,20):\n",
    "  dots.append(random.random())\n",
    "plt.plot(x, dots);"
   ]
  },
  {
   "cell_type": "markdown",
   "metadata": {
    "colab_type": "text",
    "id": "SnsMpzWXYHsd"
   },
   "source": [
    "## Задание №2\n",
    "\n",
    "Сгенерируйте двумерный массив с 10 элементами, где каждый элемент варьируется в значениях от 2 до 5, а затем умножьте его на 2."
   ]
  },
  {
   "cell_type": "code",
   "execution_count": null,
   "metadata": {
    "colab": {
     "base_uri": "https://localhost:8080/",
     "height": 54
    },
    "colab_type": "code",
    "executionInfo": {
     "elapsed": 819,
     "status": "ok",
     "timestamp": 1587379578453,
     "user": {
      "displayName": "Vitalii Kudinov",
      "photoUrl": "",
      "userId": "05159072765222728923"
     },
     "user_tz": -420
    },
    "id": "wPbsjZsvYdyD",
    "outputId": "df235fdb-fd34-4239-b533-708e9587839a"
   },
   "outputs": [],
   "source": []
  },
  {
   "cell_type": "markdown",
   "metadata": {
    "colab_type": "text",
    "id": "B46R5LD97qx_"
   },
   "source": [
    "Wget позволяет скачивать файлы через URL в указанном формате и названии."
   ]
  },
  {
   "cell_type": "code",
   "execution_count": null,
   "metadata": {
    "colab": {},
    "colab_type": "code",
    "id": "tGq9Oxai7oG4"
   },
   "outputs": [],
   "source": [
    "!wget http://google.com/test.jpg"
   ]
  },
  {
   "cell_type": "markdown",
   "metadata": {
    "colab_type": "text",
    "id": "Uljiq921MZbY"
   },
   "source": [
    "Python Imaging Library (PIL) это бесплатная библиотека для языка программирования Python, которая позволяет открывать, редактировать и сохранять изображения различных форматов."
   ]
  },
  {
   "cell_type": "code",
   "execution_count": null,
   "metadata": {
    "colab": {},
    "colab_type": "code",
    "id": "SJBfHo3NMYwS"
   },
   "outputs": [],
   "source": [
    "from PIL import *"
   ]
  },
  {
   "cell_type": "markdown",
   "metadata": {
    "colab_type": "text",
    "id": "DeA1EvlyR3hr"
   },
   "source": [
    "Очень важно указывать конкретный модуль из библиотеки, чтобы предотвратить возможные конфликты, в том случае, если функции имеют одинаковые названия."
   ]
  },
  {
   "cell_type": "code",
   "execution_count": null,
   "metadata": {
    "colab": {},
    "colab_type": "code",
    "id": "APyVRpsPSGW_"
   },
   "outputs": [],
   "source": [
    "from PIL import Image"
   ]
  },
  {
   "cell_type": "code",
   "execution_count": null,
   "metadata": {
    "colab": {},
    "colab_type": "code",
    "id": "rSmsuSrfSW3s"
   },
   "outputs": [],
   "source": [
    "im = Image.open(\"lowcontrast.jpg\")\n",
    "im.show()"
   ]
  },
  {
   "cell_type": "code",
   "execution_count": null,
   "metadata": {
    "colab": {},
    "colab_type": "code",
    "id": "9gvmSdtGSKSG"
   },
   "outputs": [],
   "source": [
    "import PIL as pl"
   ]
  },
  {
   "cell_type": "code",
   "execution_count": null,
   "metadata": {
    "colab": {},
    "colab_type": "code",
    "id": "L3BWrhCgSf2d"
   },
   "outputs": [],
   "source": [
    "im = pl.Image.open(\"lowcontrast.jpg\")\n",
    "im.show()"
   ]
  }
 ],
 "metadata": {
  "colab": {
   "collapsed_sections": [],
   "name": "Python_and_NumPy_(1_занятие).ipynb",
   "provenance": []
  },
  "kernelspec": {
   "display_name": "Python 3",
   "language": "python",
   "name": "python3"
  },
  "language_info": {
   "codemirror_mode": {
    "name": "ipython",
    "version": 3
   },
   "file_extension": ".py",
   "mimetype": "text/x-python",
   "name": "python",
   "nbconvert_exporter": "python",
   "pygments_lexer": "ipython3",
   "version": "3.8.5"
  }
 },
 "nbformat": 4,
 "nbformat_minor": 1
}
