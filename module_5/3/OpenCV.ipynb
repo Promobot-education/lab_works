{
 "cells": [
  {
   "cell_type": "markdown",
   "id": "offshore-referral",
   "metadata": {},
   "source": [
    "### Документация:\n",
    "* OpenCV: https://docs.opencv.org/"
   ]
  },
  {
   "cell_type": "markdown",
   "id": "round-illinois",
   "metadata": {},
   "source": [
    "OpenCV (англ. Open Source Computer Vision Library) это библиотека алгоритмов компьютерного зрения, обработки изображений и численных алгоритмов общего назначения с открытым кодом. Позволяет производить обработку изображений с применением фильтров, что упрощает подготовку датасетов перед обучением модели."
   ]
  },
  {
   "cell_type": "code",
   "execution_count": null,
   "id": "sixth-sleeve",
   "metadata": {},
   "outputs": [],
   "source": [
    "from PIL import Image\n",
    "import matplotlib.pyplot as plt\n",
    "im = Image.open(\"lowcontrast.jpg\")\n",
    "plt.figure(figsize=(18, 16))\n",
    "plt.imshow(im)"
   ]
  },
  {
   "cell_type": "code",
   "execution_count": null,
   "id": "delayed-journalist",
   "metadata": {},
   "outputs": [],
   "source": [
    "import cv2 as cv\n",
    "import sys\n",
    "img = cv.imread(\"lowcontrast.jpg\", cv.IMREAD_GRAYSCALE)\n",
    "if img is None:\n",
    "    sys.exit(\"Could not read the image.\")\n",
    "cv.imshow(\"Display window\", img)\n",
    "k = cv.waitKey(0)\n",
    "if k == ord(\"s\"):\n",
    "    cv.imwrite(\"city.png\", img)\n",
    "cv.destroyAllWindows()"
   ]
  },
  {
   "cell_type": "code",
   "execution_count": null,
   "id": "decreased-polish",
   "metadata": {},
   "outputs": [],
   "source": [
    "\"\"\"\n",
    "Нормализация значений пикселей от 0 до 255\n",
    "\"\"\"\n",
    "img = cv.imread('lowcontrast.jpg')\n",
    "cv.normalize(img, img, 0, 255, cv.NORM_MINMAX)\n",
    "plt.figure(figsize=(18, 16))\n",
    "plt.imshow(img)\n",
    "plt.show()"
   ]
  },
  {
   "cell_type": "code",
   "execution_count": null,
   "id": "supposed-rescue",
   "metadata": {},
   "outputs": [],
   "source": [
    "image = cv.imread('lowcontrast.jpg')\n",
    "\n",
    "alpha = 2.0 # Контроль контраста (1.0-3.0)\n",
    "beta = 20 # Контроль яркости (0-100)\n",
    "\n",
    "adjusted = cv.convertScaleAbs(image, alpha=alpha, beta=beta)\n",
    "\n",
    "plt.figure(figsize=(18, 16))\n",
    "plt.imshow(adjusted)\n",
    "plt.show()"
   ]
  },
  {
   "cell_type": "markdown",
   "id": "sought-activation",
   "metadata": {},
   "source": [
    "## Преобразование из одного цветового пространства в другое"
   ]
  },
  {
   "cell_type": "code",
   "execution_count": null,
   "id": "proper-liverpool",
   "metadata": {},
   "outputs": [],
   "source": [
    "flags = [i for i in dir(cv) if i.startswith('COLOR_')]\n",
    "print( flags )"
   ]
  },
  {
   "cell_type": "markdown",
   "id": "naughty-bennett",
   "metadata": {},
   "source": [
    "Данный блок можно запустить только при наличии подключенной веб-камеры."
   ]
  },
  {
   "cell_type": "code",
   "execution_count": null,
   "id": "dried-round",
   "metadata": {},
   "outputs": [],
   "source": [
    "import numpy as np\n",
    "cap = cv.VideoCapture(0)\n",
    "while(1):\n",
    "    # Берем каждый кадр\n",
    "    _, frame = cap.read()\n",
    "    # Конвертируем BGR в HSV\n",
    "    hsv = cv.cvtColor(frame, cv.COLOR_BGR2HSV)\n",
    "    # Задаем границы зеленого цвета в HSV\n",
    "    lower_green = np.array([40,40,40])\n",
    "    upper_green = np.array([70,255,255])\n",
    "    # Выставляем порог зеленого цвета\n",
    "    mask = cv.inRange(hsv, lower_green, upper_green)\n",
    "    # Bitwise-AND (побитовое И) позволяет скомбинировать наш кадр и маску\n",
    "    res = cv.bitwise_and(frame,frame, mask= mask)\n",
    "    cv.imshow('frame',frame)\n",
    "    cv.imshow('mask',mask)\n",
    "    cv.imshow('res',res)\n",
    "    k = cv.waitKey(5) & 0xFF\n",
    "    if k == 27:\n",
    "        break\n",
    "cv.destroyAllWindows()"
   ]
  },
  {
   "cell_type": "markdown",
   "id": "dental-style",
   "metadata": {},
   "source": [
    "Здесь же мы берем изображение для анализа."
   ]
  },
  {
   "cell_type": "code",
   "execution_count": null,
   "id": "fifty-journalism",
   "metadata": {},
   "outputs": [],
   "source": [
    "import numpy as np\n",
    "image = cv.imread('green.jpg')\n",
    "# Конвертируем BGR в HSV\n",
    "hsv = cv.cvtColor(image, cv.COLOR_BGR2HSV)\n",
    "#Задаем границы зеленого цвета в HSV\n",
    "lower_green = np.array([40,40,40])\n",
    "upper_green = np.array([70,255,255])\n",
    "# Выставляем порог зеленого цвета\n",
    "mask = cv.inRange(hsv, lower_green, upper_green)\n",
    "# Bitwise-AND (побитовое И) позволяет скомбинировать наш кадр и маску\n",
    "res = cv.bitwise_and(image,image, mask= mask)\n",
    "cv.imshow('frame',image)\n",
    "cv.imshow('mask',mask)\n",
    "cv.imshow('res',res)\n",
    "k = cv.waitKey(0)\n",
    "cv.destroyAllWindows()"
   ]
  },
  {
   "cell_type": "code",
   "execution_count": null,
   "id": "assisted-definition",
   "metadata": {},
   "outputs": [],
   "source": [
    "red = np.uint8 ([[[0,0,255]]])\n",
    "hsv_red = cv.cvtColor (red, cv.COLOR_BGR2HSV)\n",
    "print(hsv_red)"
   ]
  },
  {
   "cell_type": "code",
   "execution_count": null,
   "id": "necessary-battlefield",
   "metadata": {},
   "outputs": [],
   "source": []
  }
 ],
 "metadata": {
  "kernelspec": {
   "display_name": "Python 3",
   "language": "python",
   "name": "python3"
  },
  "language_info": {
   "codemirror_mode": {
    "name": "ipython",
    "version": 3
   },
   "file_extension": ".py",
   "mimetype": "text/x-python",
   "name": "python",
   "nbconvert_exporter": "python",
   "pygments_lexer": "ipython3",
   "version": "3.8.5"
  }
 },
 "nbformat": 4,
 "nbformat_minor": 5
}
