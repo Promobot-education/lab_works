{
 "cells": [
  {
   "cell_type": "markdown",
   "id": "interior-american",
   "metadata": {},
   "source": [
    "## Функции для рисования в OpenCV"
   ]
  },
  {
   "cell_type": "code",
   "execution_count": null,
   "id": "interracial-eating",
   "metadata": {},
   "outputs": [],
   "source": [
    "import numpy as np\n",
    "import cv2 as cv\n",
    "# Создаем черную картинку (заполняем нулями матрицу из пикселей)\n",
    "img = np.zeros((512,512,3), np.uint8)\n",
    "# Рисуем диагональную линию, толщиной 5 пикселей\n",
    "cv.line(img,(0,0),(511,511),(255,0,0),5)"
   ]
  },
  {
   "cell_type": "code",
   "execution_count": null,
   "id": "settled-participation",
   "metadata": {},
   "outputs": [],
   "source": [
    "cv.rectangle(img,(200,100),(300,250),(0,255,0),3)"
   ]
  },
  {
   "cell_type": "code",
   "execution_count": null,
   "id": "numerical-experiment",
   "metadata": {},
   "outputs": [],
   "source": [
    "cv.circle(img,(447,63), 63, (0,0,255), -1)"
   ]
  },
  {
   "cell_type": "code",
   "execution_count": null,
   "id": "smooth-image",
   "metadata": {},
   "outputs": [],
   "source": [
    "cv.ellipse(img,(256,256),(100,50),0,0,180,255,-1)"
   ]
  },
  {
   "cell_type": "code",
   "execution_count": null,
   "id": "responsible-bench",
   "metadata": {},
   "outputs": [],
   "source": [
    "pts = np.array([[197,97],[153,270],[257,369],[362,270],[305,97]], np.int32)\n",
    "pts = pts.reshape((-1,1,2)) # pts.shape / (4,2) -> (4,1,2)\n",
    "cv.polylines(img,[pts],True,(0,255,255))\n",
    "print(pts)"
   ]
  },
  {
   "cell_type": "code",
   "execution_count": null,
   "id": "higher-crazy",
   "metadata": {},
   "outputs": [],
   "source": [
    "font = cv.FONT_HERSHEY_SCRIPT_COMPLEX\n",
    "cv.putText(img,'Hello!',(10,500), font, 4,(255,255,255),2,cv.LINE_AA)"
   ]
  },
  {
   "cell_type": "markdown",
   "id": "analyzed-plumbing",
   "metadata": {},
   "source": [
    "В следующем блоке кода, напишите функции для отображения получившейся картинки."
   ]
  },
  {
   "cell_type": "code",
   "execution_count": null,
   "id": "natural-wales",
   "metadata": {},
   "outputs": [],
   "source": []
  },
  {
   "cell_type": "markdown",
   "id": "chicken-peripheral",
   "metadata": {},
   "source": [
    "## Базовые операции над изображениями"
   ]
  },
  {
   "cell_type": "markdown",
   "id": "equipped-thomas",
   "metadata": {},
   "source": [
    "### Image ROI"
   ]
  },
  {
   "cell_type": "code",
   "execution_count": null,
   "id": "suffering-being",
   "metadata": {},
   "outputs": [],
   "source": [
    "img = cv.imread('car.jpg')"
   ]
  },
  {
   "cell_type": "code",
   "execution_count": null,
   "id": "organic-parliament",
   "metadata": {},
   "outputs": [],
   "source": [
    "# Узнаем значения BGR для пикселя по координатам 475,475\n",
    "pix = img[475,475]\n",
    "print(pix)\n",
    "# Значение только синего канала\n",
    "blue = img[475,475,0]\n",
    "print(blue)"
   ]
  },
  {
   "cell_type": "code",
   "execution_count": null,
   "id": "sunset-finance",
   "metadata": {},
   "outputs": [],
   "source": [
    "# Можно написать лишь название переменной или функции без print и вы все равно увидите вывод\n",
    "img.shape"
   ]
  },
  {
   "cell_type": "code",
   "execution_count": null,
   "id": "double-officer",
   "metadata": {},
   "outputs": [],
   "source": [
    "# ROI полностью копирует значения из одной матрицы в другую, поэтому важно соблюдать размерность\n",
    "wheel = img[472:627, 686:840]\n",
    "img[473:628, 142:296] = wheel"
   ]
  },
  {
   "cell_type": "code",
   "execution_count": null,
   "id": "hidden-nicholas",
   "metadata": {},
   "outputs": [],
   "source": [
    "cv.imshow(\"Display window\", img)\n",
    "k = cv.waitKey(0)\n",
    "cv.destroyAllWindows()"
   ]
  },
  {
   "cell_type": "markdown",
   "id": "fundamental-grill",
   "metadata": {},
   "source": [
    "### Управление цветовыми каналами"
   ]
  },
  {
   "cell_type": "code",
   "execution_count": null,
   "id": "pending-documentary",
   "metadata": {},
   "outputs": [],
   "source": [
    "red = img[:,:,2]\n",
    "img[:,:,2] = 0\n",
    "cv.imshow(\"Display window\", img)\n",
    "k = cv.waitKey(0)\n",
    "cv.destroyAllWindows()"
   ]
  },
  {
   "cell_type": "markdown",
   "id": "interstate-insulation",
   "metadata": {},
   "source": [
    "### Аугментация изображений (заполнение недостающих пикселей)"
   ]
  },
  {
   "cell_type": "code",
   "execution_count": null,
   "id": "animal-trouble",
   "metadata": {},
   "outputs": [],
   "source": [
    "from matplotlib import pyplot as plt\n",
    "BLUE = [255,0,0]\n",
    "img1 = cv.imread('Gmail-logo.png')\n",
    "replicate = cv.copyMakeBorder(img1,50,50,50,50,cv.BORDER_REPLICATE)\n",
    "reflect = cv.copyMakeBorder(img1,50,50,50,50,cv.BORDER_REFLECT)\n",
    "reflect101 = cv.copyMakeBorder(img1,50,50,50,50,cv.BORDER_REFLECT_101)\n",
    "wrap = cv.copyMakeBorder(img1,50,50,50,50,cv.BORDER_WRAP)\n",
    "constant= cv.copyMakeBorder(img1,50,50,50,50,cv.BORDER_CONSTANT,value=BLUE)\n",
    "\n",
    "# Есть множетсво способов создания и отображения графиков\n",
    "fig = plt.figure(figsize=(25, 25))\n",
    "ax1 = fig.add_subplot(231)\n",
    "ax1.imshow(img1,'gray')\n",
    "ax1.set_title('ORIGINAL')\n",
    "plt.subplot(232),plt.imshow(replicate,'gray'),plt.title('REPLICATE')\n",
    "plt.subplot(233),plt.imshow(reflect,'gray'),plt.title('REFLECT')\n",
    "plt.subplot(234),plt.imshow(reflect101,'gray'),plt.title('REFLECT_101')\n",
    "plt.subplot(235),plt.imshow(wrap,'gray'),plt.title('WRAP')\n",
    "plt.subplot(236),plt.imshow(constant,'gray'),plt.title('CONSTANT')\n",
    "plt.show()"
   ]
  },
  {
   "cell_type": "markdown",
   "id": "equal-slave",
   "metadata": {},
   "source": [
    "Попробуйте повторить эти действия на своих картинках."
   ]
  },
  {
   "cell_type": "code",
   "execution_count": null,
   "id": "confused-choice",
   "metadata": {},
   "outputs": [],
   "source": []
  }
 ],
 "metadata": {
  "kernelspec": {
   "display_name": "Python 3",
   "language": "python",
   "name": "python3"
  },
  "language_info": {
   "codemirror_mode": {
    "name": "ipython",
    "version": 3
   },
   "file_extension": ".py",
   "mimetype": "text/x-python",
   "name": "python",
   "nbconvert_exporter": "python",
   "pygments_lexer": "ipython3",
   "version": "3.8.5"
  }
 },
 "nbformat": 4,
 "nbformat_minor": 5
}
