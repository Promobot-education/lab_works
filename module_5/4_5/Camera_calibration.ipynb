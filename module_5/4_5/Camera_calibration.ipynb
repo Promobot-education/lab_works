{
 "cells": [
  {
   "cell_type": "code",
   "execution_count": null,
   "id": "honey-release",
   "metadata": {},
   "outputs": [],
   "source": [
    "import numpy as np\n",
    "import cv2 as cv\n",
    "import glob\n",
    "# Критерий для остановки итераций алгоритма (алгоритм остановится при превышении\n",
    "# 30 итераций или при очень малом смещении пикселей)\n",
    "criteria = (cv.TERM_CRITERIA_EPS + cv.TERM_CRITERIA_MAX_ITER, 30, 0.001)\n",
    "# Подготовка 3D координат\n",
    "objp = np.zeros((6*7,3), np.float32)\n",
    "objp[:,:2] = np.mgrid[0:7,0:6].T.reshape(-1,2)\n",
    "# Массивы, которые будут хранить:\n",
    "objpoints = [] # 3D координаты из реального мира\n",
    "imgpoints = [] # 2D координаты из пространства изображения\n",
    "images = glob.glob('Camera_Calibration/*.jpg')\n",
    "for fname in images:\n",
    "    img = cv.imread(fname)\n",
    "    gray = cv.cvtColor(img, cv.COLOR_BGR2GRAY)\n",
    "    # Находим крайние точки шахматной доски\n",
    "    ret, corners = cv.findChessboardCorners(gray, (7,6), None)\n",
    "    # Если нашли, сохраняем данные в массивы\n",
    "    if ret == True:\n",
    "        objpoints.append(objp)\n",
    "        corners2 = cv.cornerSubPix(gray,corners, (11,11), (-1,-1), criteria)\n",
    "        imgpoints.append(corners)\n",
    "        # Рисуем и отображаем получившиеся данные\n",
    "        cv.drawChessboardCorners(img, (7,6), corners2, ret)\n",
    "        cv.imshow('img', img)\n",
    "        cv.waitKey(500)\n",
    "cv.destroyAllWindows()"
   ]
  },
  {
   "cell_type": "code",
   "execution_count": null,
   "id": "sweet-coach",
   "metadata": {},
   "outputs": [],
   "source": [
    "# Калибровка камеры\n",
    "ret, mtx, dist, rvecs, tvecs = cv.calibrateCamera(objpoints, imgpoints, gray.shape[::-1], None, None)"
   ]
  },
  {
   "cell_type": "code",
   "execution_count": null,
   "id": "australian-seattle",
   "metadata": {},
   "outputs": [],
   "source": [
    "# Предварительная обработка\n",
    "img = cv.imread('Camera_Calibration/left12.jpg')\n",
    "h,  w = img.shape[:2]\n",
    "newcameramtx, roi = cv.getOptimalNewCameraMatrix(mtx, dist, (w,h), 1, (w,h))"
   ]
  },
  {
   "cell_type": "code",
   "execution_count": null,
   "id": "familiar-efficiency",
   "metadata": {},
   "outputs": [],
   "source": [
    "# Простой способ исправить искажение\n",
    "dst = cv.undistort(img, mtx, dist, None, newcameramtx)\n",
    "# Создание кропа\n",
    "x, y, w, h = roi\n",
    "dst = dst[y:y+h, x:x+w]\n",
    "cv.imwrite('calibresult.png', dst)"
   ]
  },
  {
   "cell_type": "code",
   "execution_count": null,
   "id": "velvet-volume",
   "metadata": {},
   "outputs": [],
   "source": [
    "# Способ, позволяющий сохранить репрезентацию оригинального изображения\n",
    "mapx, mapy = cv.initUndistortRectifyMap(mtx, dist, None, newcameramtx, (w,h), 5)\n",
    "dst = cv.remap(img, mapx, mapy, cv.INTER_LINEAR)\n",
    "# Создание кропа\n",
    "x, y, w, h = roi\n",
    "dst = dst[y:y+h, x:x+w]\n",
    "cv.imwrite('calibresult1.png', dst)"
   ]
  },
  {
   "cell_type": "code",
   "execution_count": null,
   "id": "expressed-register",
   "metadata": {},
   "outputs": [],
   "source": [
    "# Вычисляем ошибку перепроецирования\n",
    "mean_error = 0\n",
    "for i in range(len(objpoints)):\n",
    "    imgpoints2, _ = cv.projectPoints(objpoints[i], rvecs[i], tvecs[i], mtx, dist)\n",
    "    error = cv.norm(imgpoints[i], imgpoints2, cv.NORM_L2)/len(imgpoints2)\n",
    "    mean_error += error\n",
    "print( \"Значение ошибки: {}\".format(mean_error/len(objpoints)) )"
   ]
  }
 ],
 "metadata": {
  "kernelspec": {
   "display_name": "Python 3",
   "language": "python",
   "name": "python3"
  },
  "language_info": {
   "codemirror_mode": {
    "name": "ipython",
    "version": 3
   },
   "file_extension": ".py",
   "mimetype": "text/x-python",
   "name": "python",
   "nbconvert_exporter": "python",
   "pygments_lexer": "ipython3",
   "version": "3.8.5"
  }
 },
 "nbformat": 4,
 "nbformat_minor": 5
}
