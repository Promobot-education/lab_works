{
 "cells": [
  {
   "cell_type": "markdown",
   "id": "numerical-receipt",
   "metadata": {},
   "source": [
    "## Детектор углов Харриса"
   ]
  },
  {
   "cell_type": "code",
   "execution_count": null,
   "id": "adapted-greensboro",
   "metadata": {},
   "outputs": [],
   "source": [
    "import numpy as np\n",
    "import cv2 as cv\n",
    "\n",
    "filename = 'crossword.jpg'\n",
    "\n",
    "img = cv.imread(filename)\n",
    "gray = cv.cvtColor(img,cv.COLOR_BGR2GRAY)\n",
    "gray = np.float32(gray)"
   ]
  },
  {
   "cell_type": "markdown",
   "id": "constant-miniature",
   "metadata": {},
   "source": [
    "Функция принимает 4 аргумента:\n",
    "- изображение\n",
    "- размер блока (участка изображения в пикселях)\n",
    "- значение апертуры (1,3,5 или 7 - применяется для расчетов второй производной для фильтра), контроль фильтра\n",
    "- свободное число для дополнительного контроля фильтра"
   ]
  },
  {
   "cell_type": "code",
   "execution_count": null,
   "id": "given-substance",
   "metadata": {},
   "outputs": [],
   "source": [
    "dst = cv.cornerHarris(gray,2,3,0.04)"
   ]
  },
  {
   "cell_type": "code",
   "execution_count": null,
   "id": "professional-ceiling",
   "metadata": {},
   "outputs": [],
   "source": [
    "# Процесс дилатации - поможет добавить значимости некоторым \"слабым\" детекциям\n",
    "dst = cv.dilate(dst,None)\n",
    "\n",
    "# Выставление порога для предотвращения дублирования функций Харриса.\n",
    "img[dst>0.005*dst.max()]=[0,0,255]\n",
    "cv.imshow('dst',img)\n",
    "\n",
    "cv.waitKey(0)\n",
    "cv.destroyAllWindows()"
   ]
  },
  {
   "cell_type": "markdown",
   "id": "southwest-romania",
   "metadata": {},
   "source": [
    "## Суб-пиксельная точность"
   ]
  },
  {
   "cell_type": "code",
   "execution_count": null,
   "id": "decent-wholesale",
   "metadata": {},
   "outputs": [],
   "source": [
    "filename = 'crossword.jpg'\n",
    "\n",
    "img = cv.imread(filename)\n",
    "gray = cv.cvtColor(img,cv.COLOR_BGR2GRAY)\n",
    "\n",
    "gray = np.float32(gray)\n",
    "dst = cv.cornerHarris(gray,2,3,0.04)\n",
    "\n",
    "dst = cv.dilate(dst,None)\n",
    "\n",
    "ret, dst = cv.threshold(dst,0.01*dst.max(),255,0)\n",
    "dst = np.uint8(dst)\n",
    "\n",
    "# Найти центроиды - центр значений для каждого найденного угла\n",
    "ret, labels, stats, centroids = cv.connectedComponentsWithStats(dst)\n",
    "\n",
    "# С этой функцией мы уже сталкивались - задаем критерий для остановки алгоритма\n",
    "criteria = (cv.TERM_CRITERIA_EPS + cv.TERM_CRITERIA_MAX_ITER, 100, 0.001)\n",
    "corners = cv.cornerSubPix(gray,np.float32(centroids),(5,5),(-1,-1),criteria)\n",
    "\n",
    "# Отображаем получившийся результат\n",
    "res = np.hstack((centroids,corners))\n",
    "res = np.int0(res)\n",
    "img[res[:,1],res[:,0]]=[0,0,255]\n",
    "img[res[:,3],res[:,2]] = [0,255,0]\n",
    "cv.imwrite('subpixel.png',img)"
   ]
  },
  {
   "cell_type": "markdown",
   "id": "adapted-bermuda",
   "metadata": {},
   "source": [
    "## Оператор Собеля"
   ]
  },
  {
   "cell_type": "code",
   "execution_count": null,
   "id": "wanted-abuse",
   "metadata": {
    "scrolled": false
   },
   "outputs": [],
   "source": [
    "from matplotlib import pyplot as plt\n",
    "\n",
    "img = cv.imread('crossword.jpg',0)\n",
    "\n",
    "sobelx = cv.Sobel(img,cv.CV_8U,1,0,ksize=5)\n",
    "sobely = cv.Sobel(img,cv.CV_8U,0,1,ksize=5)\n",
    "\n",
    "fig = plt.figure(figsize=(25, 25))\n",
    "ax1 = fig.add_subplot(231)\n",
    "ax1.imshow(img,cmap = 'gray')\n",
    "ax1.set_title('ORIGINAL')\n",
    "plt.subplot(232),plt.imshow(sobelx, cmap = 'gray'),plt.title('Sobel X')\n",
    "plt.subplot(233),plt.imshow(sobely, cmap = 'gray'),plt.title('Sobel Y')\n",
    "plt.show()"
   ]
  },
  {
   "cell_type": "markdown",
   "id": "controlling-basics",
   "metadata": {},
   "source": [
    "Как вы могли заметить, результат оказался немного неточным и \"шумным\". Дело в том, что значения, с которыми работает оператор Собеля, могут сильно повлиять на итоговый результат. При использовании CV_8U, мы убираем отрицательные значения (unsigned integer), которые могут появляться в результате перемножения на маску Собеля. Чтобы этого не допустить, попробуем использовать CV_64F (64-битное число с плавающей точкой), хотя, будет достаточно и 16 бит."
   ]
  },
  {
   "cell_type": "code",
   "execution_count": null,
   "id": "bigger-monkey",
   "metadata": {},
   "outputs": [],
   "source": [
    "img = cv.imread('crossword.jpg',0)\n",
    "\n",
    "sobelx = cv.Sobel(img,cv.CV_64F,1,0,ksize=5)\n",
    "sobely = cv.Sobel(img,cv.CV_64F,0,1,ksize=5)\n",
    "\n",
    "fig = plt.figure(figsize=(25, 25))\n",
    "ax1 = fig.add_subplot(231)\n",
    "ax1.imshow(img,cmap = 'gray')\n",
    "ax1.set_title('ORIGINAL')\n",
    "plt.subplot(232),plt.imshow(sobelx, cmap = 'gray'),plt.title('Sobel X')\n",
    "plt.subplot(233),plt.imshow(sobely, cmap = 'gray'),plt.title('Sobel Y')\n",
    "plt.show()"
   ]
  }
 ],
 "metadata": {
  "kernelspec": {
   "display_name": "Python 3",
   "language": "python",
   "name": "python3"
  },
  "language_info": {
   "codemirror_mode": {
    "name": "ipython",
    "version": 3
   },
   "file_extension": ".py",
   "mimetype": "text/x-python",
   "name": "python",
   "nbconvert_exporter": "python",
   "pygments_lexer": "ipython3",
   "version": "3.8.5"
  }
 },
 "nbformat": 4,
 "nbformat_minor": 5
}
