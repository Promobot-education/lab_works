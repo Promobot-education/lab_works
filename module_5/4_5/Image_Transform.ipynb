{
 "cells": [
  {
   "cell_type": "markdown",
   "id": "changing-today",
   "metadata": {},
   "source": [
    "## Смешивание изображений"
   ]
  },
  {
   "cell_type": "code",
   "execution_count": null,
   "id": "specialized-gateway",
   "metadata": {},
   "outputs": [],
   "source": [
    "import cv2 as cv\n",
    "img1 = cv.imread('car.jpg')\n",
    "img1 = img1[0:750, 0:750]\n",
    "img2 = cv.imread('green.jpg')\n",
    "img2 = img2[0:750, 0:750]\n",
    "dst = cv.addWeighted(img1,0.7,img2,0.3,0)\n",
    "cv.imshow('dst',dst)\n",
    "cv.waitKey(0)\n",
    "cv.destroyAllWindows()"
   ]
  },
  {
   "cell_type": "markdown",
   "id": "editorial-stewart",
   "metadata": {},
   "source": [
    "Создайте анимацию с переходом из одного изображения в другое. Попытайтесь доавбить еще одно изображение."
   ]
  },
  {
   "cell_type": "code",
   "execution_count": null,
   "id": "figured-india",
   "metadata": {},
   "outputs": [],
   "source": []
  },
  {
   "cell_type": "markdown",
   "id": "bearing-montreal",
   "metadata": {},
   "source": [
    "## Побитовые операции"
   ]
  },
  {
   "cell_type": "code",
   "execution_count": null,
   "id": "silver-theorem",
   "metadata": {},
   "outputs": [],
   "source": [
    "img1 = cv.imread('car.jpg')\n",
    "img2 = cv.imread('Gmail-logo.png')\n",
    "# Логотип будет помещен в левый верхний угол, но со смещением в 100 пикселей по вертикали и горизонтали\n",
    "rows,cols,channels = img2.shape\n",
    "roi = img1[100:rows+100, 100:cols+100]\n",
    "# Создадим маску и ее инвертированную копию\n",
    "img2gray = cv.cvtColor(img2,cv.COLOR_BGR2GRAY)\n",
    "ret, mask = cv.threshold(img2gray, 10, 255, cv.THRESH_BINARY)\n",
    "mask_inv = cv.bitwise_not(mask)\n",
    "# Заполним площадь на первом изображении нашей маской\n",
    "img1_bg = cv.bitwise_and(roi,roi,mask = mask_inv)\n",
    "# Забираем область логотипа из второго изображения\n",
    "img2_fg = cv.bitwise_and(img2,img2,mask = mask)\n",
    "# Добавляем логотип в выделенную область ROI (Region Of Interest)\n",
    "dst = cv.add(img1_bg,img2_fg)\n",
    "# Не забываем добавить наше смещение при добавлении логотипа\n",
    "img1[100:rows+100, 100:cols+100] = dst\n",
    "cv.imshow('gray',img2gray)\n",
    "cv.imshow('mask_inverted',mask_inv)\n",
    "cv.imshow('img_black-out',img1_bg)\n",
    "cv.imshow('img_foreground',img2_fg)\n",
    "cv.imshow('result',img1)\n",
    "cv.waitKey(0)\n",
    "cv.destroyAllWindows()"
   ]
  },
  {
   "cell_type": "markdown",
   "id": "weekly-beauty",
   "metadata": {},
   "source": [
    "## Трансформации изображения"
   ]
  },
  {
   "cell_type": "code",
   "execution_count": null,
   "id": "unnecessary-livestock",
   "metadata": {},
   "outputs": [],
   "source": [
    "# Масштабирование\n",
    "img = cv.imread('car.jpg')\n",
    "res = cv.resize(img,None,fx=2, fy=2, interpolation = cv.INTER_CUBIC)\n",
    "# Или можно написать\n",
    "height, width = img.shape[:2]\n",
    "res = cv.resize(img,(2*width, 2*height), interpolation = cv.INTER_CUBIC)\n",
    "cv.imshow('result',res)\n",
    "cv.waitKey(0)\n",
    "cv.destroyAllWindows()"
   ]
  },
  {
   "cell_type": "code",
   "execution_count": null,
   "id": "unlimited-drunk",
   "metadata": {},
   "outputs": [],
   "source": [
    "# Сдвиг\n",
    "img = cv.imread('car.jpg',0)\n",
    "rows,cols = img.shape\n",
    "M = np.float32([[1,0,200],[0,1,200]]) # Сдвиг в 200 пикселей по горизонтали и вертикали\n",
    "dst = cv.warpAffine(img,M,(cols,rows))\n",
    "cv.imshow('img',dst)\n",
    "cv.waitKey(0)\n",
    "cv.destroyAllWindows()"
   ]
  },
  {
   "cell_type": "code",
   "execution_count": null,
   "id": "driving-donna",
   "metadata": {},
   "outputs": [],
   "source": [
    "# Поворот\n",
    "img = cv.imread('car.jpg',0)\n",
    "rows,cols = img.shape\n",
    "# cols-1 и rows-1 это последние значения координат\n",
    "M = cv.getRotationMatrix2D(((cols-1)/2.0,(rows-1)/2.0),90,1)\n",
    "dst = cv.warpAffine(img,M,(cols,rows))\n",
    "cv.imshow('img',dst)\n",
    "cv.waitKey(0)\n",
    "cv.destroyAllWindows()"
   ]
  },
  {
   "cell_type": "code",
   "execution_count": null,
   "id": "national-counter",
   "metadata": {},
   "outputs": [],
   "source": [
    "# Аффинное преобразование\n",
    "import matplotlib.pyplot as plt\n",
    "img = cv.imread('Gmail-logo.png')\n",
    "rows,cols,ch = img.shape\n",
    "pts1 = np.float32([[34,400],[199,400],[108,15]])\n",
    "pts2 = np.float32([[84,450],[249,450],[108,15]])\n",
    "M = cv.getAffineTransform(pts1,pts2)\n",
    "dst = cv.warpAffine(img,M,(cols,rows))\n",
    "fig = plt.figure(figsize=(25, 25))\n",
    "ax1 = fig.add_subplot(121)\n",
    "ax1.imshow(img)\n",
    "ax1.set_title('Input')\n",
    "plt.subplot(122),plt.imshow(dst),plt.title('Output')\n",
    "plt.show()"
   ]
  },
  {
   "cell_type": "code",
   "execution_count": null,
   "id": "coordinate-nickel",
   "metadata": {},
   "outputs": [],
   "source": [
    "# Перспективное преобразование\n",
    "img = cv.imread('crossword.jpg')\n",
    "rows,cols,ch = img.shape\n",
    "pts1 = np.float32([[43,174],[919,175],[20,859],[956,841]])\n",
    "pts2 = np.float32([[0,0],[850,0],[0,700],[850,700]])\n",
    "M = cv.getPerspectiveTransform(pts1,pts2)\n",
    "dst = cv.warpPerspective(img,M,(850,700))\n",
    "fig = plt.figure(figsize=(25, 25))\n",
    "ax1 = fig.add_subplot(121)\n",
    "ax1.imshow(img)\n",
    "ax1.set_title('Input')\n",
    "plt.subplot(122),plt.imshow(dst),plt.title('Output')\n",
    "plt.show()"
   ]
  },
  {
   "cell_type": "markdown",
   "id": "geographic-memorabilia",
   "metadata": {},
   "source": [
    "Поменяйте значения в блоках кода, для того чтобы освоить их на своих изображениях и напишите их ниже."
   ]
  },
  {
   "cell_type": "code",
   "execution_count": null,
   "id": "authentic-action",
   "metadata": {},
   "outputs": [],
   "source": []
  }
 ],
 "metadata": {
  "kernelspec": {
   "display_name": "Python 3",
   "language": "python",
   "name": "python3"
  },
  "language_info": {
   "codemirror_mode": {
    "name": "ipython",
    "version": 3
   },
   "file_extension": ".py",
   "mimetype": "text/x-python",
   "name": "python",
   "nbconvert_exporter": "python",
   "pygments_lexer": "ipython3",
   "version": "3.8.5"
  }
 },
 "nbformat": 4,
 "nbformat_minor": 5
}
